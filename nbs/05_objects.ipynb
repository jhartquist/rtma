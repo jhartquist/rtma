{
 "cells": [
  {
   "cell_type": "code",
   "execution_count": null,
   "metadata": {
    "Collapsed": "false"
   },
   "outputs": [],
   "source": [
    "# default_exp objects"
   ]
  },
  {
   "cell_type": "code",
   "execution_count": null,
   "metadata": {
    "Collapsed": "false"
   },
   "outputs": [],
   "source": [
    "#hide \n",
    "%load_ext autoreload\n",
    "%autoreload 2"
   ]
  },
  {
   "cell_type": "code",
   "execution_count": null,
   "metadata": {
    "Collapsed": "false"
   },
   "outputs": [],
   "source": [
    "%matplotlib inline"
   ]
  },
  {
   "cell_type": "code",
   "execution_count": null,
   "metadata": {
    "Collapsed": "false"
   },
   "outputs": [],
   "source": [
    "#export\n",
    "from rtma.imports import *\n",
    "from rtma.core import *\n",
    "from rtma.signal import *\n",
    "from rtma.stft import *"
   ]
  },
  {
   "cell_type": "markdown",
   "metadata": {
    "Collapsed": "false"
   },
   "source": [
    "# Objects"
   ]
  },
  {
   "cell_type": "markdown",
   "metadata": {
    "Collapsed": "false"
   },
   "source": [
    "## Signal"
   ]
  },
  {
   "cell_type": "code",
   "execution_count": null,
   "metadata": {
    "Collapsed": "false"
   },
   "outputs": [],
   "source": [
    "class Signal:\n",
    "    def __init__(self, filename: str) -> None:\n",
    "        self.filename = filename        \n",
    "        self.x, self.sample_rate = load_audio(filename)\n",
    "    \n",
    "    @property\n",
    "    def n_samples(self) -> int:\n",
    "        return self.x.shape[-1]\n",
    "    \n",
    "    @property\n",
    "    def duration(self) -> float:\n",
    "        return self.n_samples / self.sample_rate\n",
    "        \n",
    "    def __len__(self) -> int:\n",
    "        return self.n_samples\n",
    "    \n",
    "    def play(self) -> None:\n",
    "        play_audio(self.x, self.sample_rate)\n",
    "        \n",
    "    def plot(self) -> None:\n",
    "        plot(self.x)\n",
    "        \n",
    "    def __str__(self) -> str:\n",
    "        return f'Signal(\"{self.filename}\")'\n",
    "    \n",
    "    def __repr__(self) -> str:\n",
    "        return str(self)"
   ]
  },
  {
   "cell_type": "code",
   "execution_count": null,
   "metadata": {
    "Collapsed": "false"
   },
   "outputs": [],
   "source": [
    "s = Signal(\"data/E_octaves_both.wav\")\n",
    "s"
   ]
  },
  {
   "cell_type": "code",
   "execution_count": null,
   "metadata": {
    "Collapsed": "false"
   },
   "outputs": [],
   "source": [
    "s.play()\n",
    "s.plot()"
   ]
  },
  {
   "cell_type": "code",
   "execution_count": null,
   "metadata": {
    "Collapsed": "false"
   },
   "outputs": [],
   "source": [
    "s.duration, s.n_samples, len(s)"
   ]
  },
  {
   "cell_type": "code",
   "execution_count": null,
   "metadata": {
    "Collapsed": "false"
   },
   "outputs": [],
   "source": [
    "fclass Frame:\n",
    "    def __init__(self, x: np.ndarray):\n",
    "        self.x = x\n",
    "    \n",
    "    def plot(self):\n",
    "        plot(self.x)"
   ]
  },
  {
   "cell_type": "code",
   "execution_count": null,
   "metadata": {
    "Collapsed": "false"
   },
   "outputs": [],
   "source": [
    "class Analysis:\n",
    "    def __init__(self, \n",
    "                 signal: Signal,\n",
    "                 frame_size: int, \n",
    "                 hop_size: int) -> None:\n",
    "        self.signal = signal\n",
    "        self.frame_size = frame_size\n",
    "        self.hop_size = hop_size\n",
    "    \n",
    "    def __repr__(self) -> str:\n",
    "        return f'Analysis({self.signal}, frame_size={self.frame_size}, hop_size={self.hop_size})'\n",
    "    \n",
    "    @property\n",
    "    def overlap(self) -> int:\n",
    "        return self.frame_size - self.hop_size\n",
    "    \n",
    "    @property\n",
    "    def frames(self):\n",
    "        x_pad = np.pad(self.signal.x, (self.overlap, 0), mode='constant')\n",
    "        i = 0\n",
    "        while i < x_pad.size:\n",
    "            x_frame = x_pad[i:i+self.frame_size]\n",
    "            if x_frame.size < self.frame_size:\n",
    "                x_frame = np.pad(x_frame, (0, self.frame_size-x_frame.size), mode='constant')\n",
    "            yield Frame(x_frame)\n",
    "            i += self.hop_size"
   ]
  },
  {
   "cell_type": "code",
   "execution_count": null,
   "metadata": {
    "Collapsed": "false"
   },
   "outputs": [],
   "source": [
    "a = Analysis(s, frame_size=601, hop_size=150)\n",
    "frames = list(a.frames)\n",
    "len(frames), a"
   ]
  },
  {
   "cell_type": "code",
   "execution_count": null,
   "metadata": {
    "Collapsed": "false"
   },
   "outputs": [],
   "source": [
    "class SpectralAnalysis(Analysis):\n",
    "    def __init__(self,\n",
    "                 *args,\n",
    "                 fft_size: int,\n",
    "                 window_name: str,\n",
    "                 **kwargs):\n",
    "        super().__init__(*args, **kwargs)\n",
    "        self.fft_size = fft_size\n",
    "        self.window_name = window_name\n",
    "        self.window = get_cola_window(window_name, self.frame_size, self.hop_size)\n",
    "        print(self.window.max())\n",
    "    \n",
    "    @property\n",
    "    def frames(self):\n",
    "        for frame in super().frames:\n",
    "            yield Frame(frame.x * self.window)"
   ]
  },
  {
   "cell_type": "code",
   "execution_count": null,
   "metadata": {
    "Collapsed": "false"
   },
   "outputs": [],
   "source": [
    "sa = SpectralAnalysis(s, \n",
    "                      fft_size=2048,\n",
    "                      window_name='hamming',\n",
    "                      frame_size=601, \n",
    "                      hop_size=150)"
   ]
  },
  {
   "cell_type": "code",
   "execution_count": null,
   "metadata": {
    "Collapsed": "false"
   },
   "outputs": [],
   "source": []
  }
 ],
 "metadata": {
  "kernelspec": {
   "display_name": "Python 3",
   "language": "python",
   "name": "python3"
  },
  "language_info": {
   "codemirror_mode": {
    "name": "ipython",
    "version": 3
   },
   "file_extension": ".py",
   "mimetype": "text/x-python",
   "name": "python",
   "nbconvert_exporter": "python",
   "pygments_lexer": "ipython3",
   "version": "3.7.7"
  }
 },
 "nbformat": 4,
 "nbformat_minor": 4
}
